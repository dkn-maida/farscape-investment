{
 "cells": [
  {
   "cell_type": "code",
   "execution_count": 11,
   "id": "85ddc2b8-af3a-4ab0-8c66-4eaaaab61a74",
   "metadata": {},
   "outputs": [
    {
     "name": "stdout",
     "output_type": "stream",
     "text": [
      "[{'WBD': 3.581994148098132}, {'MU': 3.7215031907350506}, {'FANG': 3.846584966289276}, {'CMCSA': 6.618749307549019}, {'ILMN': 6.796275833844895}, {'NFLX': 6.902019221505187}, {'MRNA': 7.03985257985258}, {'CHTR': 7.252192077315048}, {'CTSH': 8.053216569363359}, {'ON': 8.149322837463101}, {'QCOM': 8.378993452889269}, {'META': 8.909475950039862}, {'NXPI': 9.621639346108257}, {'AMAT': 9.731170920527399}, {'GFS': 10.050141087405368}, {'PCAR': 10.098132401651618}, {'WBA': 10.105861019607843}, {'GEHC': 10.338355228959788}]\n"
     ]
    }
   ],
   "source": [
    "import requests\n",
    "import json\n",
    "\n",
    "API_KEY = '9d3a358bc5165e8334c3f2f858e4c315'\n",
    "\n",
    "# get all NASDAQ tickers\n",
    "NASDAQ_TICKERS_URL = f'https://financialmodelingprep.com/api/v3/nasdaq_constituent?apikey={API_KEY}'\n",
    "response = requests.get(NASDAQ_TICKERS_URL)\n",
    "data = json.loads(response.text)\n",
    "\n",
    "# store FCF yields\n",
    "ev_ebita = []\n",
    "\n",
    "filtered_stocks=[]\n",
    "\n",
    "for stock in data:\n",
    "    \n",
    "    symbol = stock['symbol']\n",
    "    # get company profile\n",
    "    COMPANY_PROFILE_URL = f'https://financialmodelingprep.com/api/v3/profile/{symbol}?apikey={API_KEY}'\n",
    "    company_response = requests.get(COMPANY_PROFILE_URL)\n",
    "    company_data = json.loads(company_response.text)\n",
    "    # sometimes the API returns a list, sometimes a dictionary\n",
    "    if isinstance(company_data, list):\n",
    "        company_data = company_data[0]\n",
    "    market_cap = company_data.get('mktCap', 0)\n",
    "    \n",
    "    if market_cap > 100e6:\n",
    "        EV_EBITA_URL = f'https://financialmodelingprep.com/api/v3/key-metrics/{symbol}?apikey={API_KEY}&limit=1'\n",
    "        ev_ebita_response = requests.get(EV_EBITA_URL)\n",
    "        ev_ebita_data = json.loads(ev_ebita_response.text)\n",
    "        ev_ebita=ev_ebita_data[0]['enterpriseValueOverEBITDA']\n",
    "        \n",
    "    if ev_ebita > 0 :\n",
    "        filtered_stocks.append({ev_ebita_data[0]['symbol']: ev_ebita})\n",
    "        \n",
    "# Sort the filtered_stocks list of dictionaries by EV/EBITDA value\n",
    "filtered_stocks.sort(key=lambda x: x[next(iter(x))])\n",
    "\n",
    "# Get the count of stocks to keep (20% of the total)\n",
    "count_to_keep = int(len(filtered_stocks) * 0.20)\n",
    "\n",
    "# Slice the list to only keep the stocks with the lowest 20% of EV/EBITDA\n",
    "lowest_ev_ebita_stocks = filtered_stocks[:count_to_keep]\n",
    "\n",
    "print(lowest_ev_ebita_stocks)"
   ]
  }
 ],
 "metadata": {
  "kernelspec": {
   "display_name": "Python 3 (ipykernel)",
   "language": "python",
   "name": "python3"
  },
  "language_info": {
   "codemirror_mode": {
    "name": "ipython",
    "version": 3
   },
   "file_extension": ".py",
   "mimetype": "text/x-python",
   "name": "python",
   "nbconvert_exporter": "python",
   "pygments_lexer": "ipython3",
   "version": "3.10.5"
  }
 },
 "nbformat": 4,
 "nbformat_minor": 5
}
